{
 "cells": [
  {
   "cell_type": "code",
   "execution_count": 1,
   "id": "7d73084e-31f4-4147-bb60-f33053e8aeca",
   "metadata": {},
   "outputs": [],
   "source": [
    "import numpy as np\n",
    "import pandas as pd\n",
    "from sklearn import preprocessing\n",
    "import torch"
   ]
  },
  {
   "cell_type": "markdown",
   "id": "07a280ae-4c97-4192-8090-b41141ec7e2d",
   "metadata": {},
   "source": [
    "## Loading the Data"
   ]
  },
  {
   "cell_type": "code",
   "execution_count": 2,
   "id": "3ec6556f-563f-43a2-b3da-e5f5d829fd31",
   "metadata": {},
   "outputs": [],
   "source": [
    "raw_data = np.loadtxt('Audiobooks_data.csv', delimiter=\",\")"
   ]
  },
  {
   "cell_type": "code",
   "execution_count": 3,
   "id": "2e6f5d7d-a3c6-46f5-be7c-9972ae765de6",
   "metadata": {},
   "outputs": [],
   "source": [
    "unscaled_inputs_all = raw_data[:,1:-1]\n",
    "targets_all = raw_data[:,-1]"
   ]
  },
  {
   "cell_type": "markdown",
   "id": "a960063b-538a-4f81-acca-d103331d26a2",
   "metadata": {},
   "source": [
    "## Balancing the Dataset"
   ]
  },
  {
   "cell_type": "code",
   "execution_count": 4,
   "id": "f1ad1d9e-ee91-4a1d-a0fb-84dc72e7008d",
   "metadata": {},
   "outputs": [],
   "source": [
    "num_one_targets = int(np.sum(targets_all))\n",
    "zero_targets = 0\n",
    "indices_to_remove = []\n",
    "for i in range(targets_all.shape[0]):\n",
    "    if targets_all[i] == 0:\n",
    "        zero_targets += 1\n",
    "        if zero_targets > num_one_targets:\n",
    "            indices_to_remove.append(i)\n",
    "unscaled_inputs_equal = np.delete(unscaled_inputs_all, indices_to_remove, axis=0)\n",
    "targets_equal = np.delete(targets_all, indices_to_remove, axis=0)"
   ]
  },
  {
   "cell_type": "markdown",
   "id": "1a9d7190-8f6d-46e5-9a1b-4b3cf1e188a1",
   "metadata": {},
   "source": [
    "Shape of the inputs and targets:"
   ]
  },
  {
   "cell_type": "code",
   "execution_count": 5,
   "id": "1e76ab4a-fe61-4eb5-8e94-ad4189b50fdf",
   "metadata": {},
   "outputs": [
    {
     "data": {
      "text/plain": [
       "((4474, 10), (4474,))"
      ]
     },
     "execution_count": 5,
     "metadata": {},
     "output_type": "execute_result"
    }
   ],
   "source": [
    "unscaled_inputs_equal.shape, targets_equal.shape"
   ]
  },
  {
   "cell_type": "markdown",
   "id": "3f204207-3e79-4ced-aa87-6673bbc1ff2c",
   "metadata": {},
   "source": [
    "## Standardizing the inputs"
   ]
  },
  {
   "cell_type": "code",
   "execution_count": 6,
   "id": "4d94b3d2-fa40-42f3-b52d-c03c84afddbc",
   "metadata": {},
   "outputs": [],
   "source": [
    "scaled_inputs_equal = preprocessing.scale(unscaled_inputs_equal)"
   ]
  },
  {
   "cell_type": "markdown",
   "id": "26e9ecb1-c766-48f2-ba7f-fdff32d198ea",
   "metadata": {},
   "source": [
    "## Shuffling the Data"
   ]
  },
  {
   "cell_type": "code",
   "execution_count": 7,
   "id": "a4650279-e504-401c-ab0c-a81fe2bcb3dc",
   "metadata": {},
   "outputs": [],
   "source": [
    "shuffled_indices = np.arange(scaled_inputs_equal.shape[0])\n",
    "np.random.shuffle(shuffled_indices)\n",
    "\n",
    "shuffled_inputs = scaled_inputs_equal[shuffled_indices]\n",
    "shuffled_targets = targets_equal[shuffled_indices]"
   ]
  },
  {
   "cell_type": "markdown",
   "id": "e301f546-ab14-4d16-9b07-eeeb1f7e6a6b",
   "metadata": {},
   "source": [
    "## Splitting the data into train, validation and test"
   ]
  },
  {
   "cell_type": "code",
   "execution_count": 8,
   "id": "f4e877d3-94c8-46d7-b70e-f8a7d068522e",
   "metadata": {},
   "outputs": [],
   "source": [
    "samples_count = shuffled_inputs.shape[0]\n",
    "\n",
    "train_samples = int(0.8 * samples_count)\n",
    "valid_samples = int(0.1 * samples_count)\n",
    "test_samples = samples_count - (train_samples + valid_samples)"
   ]
  },
  {
   "cell_type": "code",
   "execution_count": 9,
   "id": "181f2a65-6b46-420c-ba87-d6bd62253fa7",
   "metadata": {},
   "outputs": [
    {
     "data": {
      "text/plain": [
       "(4474, 3579, 447, 448)"
      ]
     },
     "execution_count": 9,
     "metadata": {},
     "output_type": "execute_result"
    }
   ],
   "source": [
    "samples_count, train_samples, valid_samples, test_samples"
   ]
  },
  {
   "cell_type": "code",
   "execution_count": 10,
   "id": "6cc7f44f-d60a-4410-b668-8e74b913cec4",
   "metadata": {},
   "outputs": [],
   "source": [
    "train_inputs = shuffled_inputs[:train_samples]\n",
    "train_targets = shuffled_targets[:train_samples]\n",
    "\n",
    "valid_inputs = shuffled_inputs[train_samples:train_samples+valid_samples]\n",
    "valid_targets = shuffled_targets[train_samples:train_samples+valid_samples]\n",
    "\n",
    "test_inputs = shuffled_inputs[train_samples+valid_samples:]\n",
    "test_targets = shuffled_targets[train_samples+valid_samples:]"
   ]
  },
  {
   "cell_type": "code",
   "execution_count": 15,
   "id": "e1970b67-9f21-4038-9302-cc7f435f9300",
   "metadata": {},
   "outputs": [
    {
     "data": {
      "text/plain": [
       "array([1., 1., 1., ..., 0., 0., 1.], shape=(3579,))"
      ]
     },
     "execution_count": 15,
     "metadata": {},
     "output_type": "execute_result"
    }
   ],
   "source": [
    "train_targets"
   ]
  },
  {
   "cell_type": "code",
   "execution_count": null,
   "id": "ca2c8e64-bd6d-416b-ad04-4f1435810e42",
   "metadata": {},
   "outputs": [],
   "source": []
  }
 ],
 "metadata": {
  "kernelspec": {
   "display_name": "Python 3 (ipykernel)",
   "language": "python",
   "name": "python3"
  },
  "language_info": {
   "codemirror_mode": {
    "name": "ipython",
    "version": 3
   },
   "file_extension": ".py",
   "mimetype": "text/x-python",
   "name": "python",
   "nbconvert_exporter": "python",
   "pygments_lexer": "ipython3",
   "version": "3.13.7"
  }
 },
 "nbformat": 4,
 "nbformat_minor": 5
}
